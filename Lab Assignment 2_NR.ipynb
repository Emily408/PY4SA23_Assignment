{
 "cells": [
  {
   "cell_type": "markdown",
   "id": "48900499-900d-43c8-b08a-14bea2586b5b",
   "metadata": {},
   "source": [
    "# Lab Assignment 2 - Emily Campbell\n",
    "## 200008521"
   ]
  },
  {
   "cell_type": "markdown",
   "id": "be02378d-174c-4d71-bd50-b93d79e79e24",
   "metadata": {},
   "source": [
    "## Python Basics"
   ]
  },
  {
   "cell_type": "markdown",
   "id": "1ff7e625-9d7f-43ec-9a34-3e830ad17dd3",
   "metadata": {},
   "source": [
    "#### **Task 1:**"
   ]
  },
  {
   "cell_type": "markdown",
   "id": "5e2aeea3-926a-4a71-932b-5dfc57fd7ae0",
   "metadata": {},
   "source": [
    "**I created an if...else statement to test whether 30 is divisible by 3. Use of the modulus operation determines that if the remainder is 0, the number is divisible by 3. If it is not 0, the number is not divisible.**"
   ]
  },
  {
   "cell_type": "code",
   "execution_count": null,
   "id": "b2f3b99f-6e59-45f2-a953-f55b8ad0f630",
   "metadata": {},
   "outputs": [],
   "source": [
    "x = 30\n",
    "y = 3\n",
    "if x%y == 0:\n",
    "    print(\"30 is divisible by 3.\")\n",
    "\n",
    "else:\n",
    "    print(\"30 is not divisible by 3.\")"
   ]
  },
  {
   "cell_type": "markdown",
   "id": "cbdb2ebf-7cb7-4c7f-b848-2184e3ed8a37",
   "metadata": {},
   "source": [
    "#### **Task 2:**"
   ]
  },
  {
   "cell_type": "markdown",
   "id": "b9e41473-9aa2-4033-b1a8-2397aee64351",
   "metadata": {},
   "source": [
    "**I created an if...else statement to test whether a type of fruit, represented by a test string, is in a list of acceptable fruits. If the value \"plum\" was greater than 0, it was present in the list and acceptable. If it was not, it was not acceptable.**"
   ]
  },
  {
   "cell_type": "code",
   "execution_count": null,
   "id": "270816c1-d5a4-4575-bf02-e77d853ee293",
   "metadata": {},
   "outputs": [],
   "source": [
    "fruit = \"plum\"\n",
    "lst = [\"apple\", \"orange\", \"pear\", \"kiwi\", \"strawberry\"]\n",
    "result = lst.count(fruit)\n",
    "if result > 0:\n",
    "    print(\"plum is acceptable\")\n",
    "else:\n",
    "    print(\"plum is not acceptable\")"
   ]
  },
  {
   "cell_type": "markdown",
   "id": "6a2f0b46-193f-46dc-96e7-e17056e304ba",
   "metadata": {},
   "source": [
    "#### **Task 3:**"
   ]
  },
  {
   "cell_type": "markdown",
   "id": "ee5d609c-1b4a-44b9-a24b-8a1e82640de1",
   "metadata": {},
   "source": [
    "**This function calculates the distance between London (51.50734, -0.12778) and Paris (48.85661, 2.35222) using the haversine formula. I inputted a pair of coordinates (coord1 and coord2) as two lists, converted the latitudes and longitudes into radians, and inputted them into the formula to produce a distance of 343.55 km.**"
   ]
  },
  {
   "cell_type": "code",
   "execution_count": null,
   "id": "bd4e9c8a-9da8-44aa-8f86-1e2f7cfc7c27",
   "metadata": {},
   "outputs": [],
   "source": [
    "import math\n",
    "from math import sin, cos, sqrt, atan2, radians\n",
    "def haversine(coord1:object, coord2:object):\n",
    "    \n",
    "    lon1, lat1 = coord1\n",
    "    lon2, lat2 = coord2\n",
    "    phi_1 = math.radians(lat1)\n",
    "    phi_2 = math.radians(lat2)\n",
    "    delta_phi = math.radians(lat2 - lat1)\n",
    "    delta_lambda = math.radians(lon2 - lon1)\n",
    "    \n",
    "    a = math.sin(delta_phi / 2.0) ** 2 + math.cos(phi_1) * math.cos(phi_2) * math.sin(delta_lambda / 2.0) ** 2\n",
    "    c = 2 * math.atan2(math.sqrt(a), math.sqrt(1 - a))\n",
    "    R = 6371\n",
    "    return R * c\n",
    "\n",
    "coord1 = -0.12776, 51.50735\n",
    "coord2 = 2.35222, 48.85661\n",
    "print(haversine(coord1, coord2))"
   ]
  },
  {
   "cell_type": "markdown",
   "id": "9b7c1355-67c4-4bda-8bf3-84ce86b577bc",
   "metadata": {},
   "source": [
    "## Pandas and NumPy"
   ]
  },
  {
   "cell_type": "markdown",
   "id": "d3a50080-d358-4295-a28d-5013a2e1f5b6",
   "metadata": {},
   "source": [
    "**I read the portland_park_trees file, importing pandas as pd and numpy as np.**"
   ]
  },
  {
   "cell_type": "code",
   "execution_count": null,
   "id": "06a50672-6c6d-4839-823e-d57701806e63",
   "metadata": {},
   "outputs": [],
   "source": [
    "import pandas as pd\n",
    "import numpy as np\n",
    "\n",
    "df = pd.read_csv(\"~/Documents/PY4SA23_Assignment/portland_park_trees.csv\")"
   ]
  },
  {
   "cell_type": "markdown",
   "id": "95a43062-cb7b-4c83-8ae1-8671f480773b",
   "metadata": {},
   "source": [
    "#### **Question 1: How many trees are of the Quercus or Acer genus?**"
   ]
  },
  {
   "cell_type": "markdown",
   "id": "926ce8d0-d116-4dab-ac52-983fac394050",
   "metadata": {},
   "source": [
    "**First I defined the values, and then the column the trees were being counted from using df[\"Genus\"]. Then the value_counts() method returned a Panda Series object that contained the counts of each unique value in the Genus column. Counts[values] then summarised the number of trees of the Quercus or Acer genus, which was 5675 trees.**"
   ]
  },
  {
   "cell_type": "code",
   "execution_count": null,
   "id": "71cb1c2f-fa01-4929-b860-21c84d38fde4",
   "metadata": {},
   "outputs": [],
   "source": [
    "values = [\"Quercus\", \"Acer\"]\n",
    "counts = df[\"Genus\"].value_counts()\n",
    "counts[values].sum()"
   ]
  },
  {
   "cell_type": "markdown",
   "id": "d71f7d56-444b-4122-82d5-966e4d38cbfd",
   "metadata": {},
   "source": [
    "#### **Question 2: How many trees are of the Quercus or Acer genus and have a DBH larger than 50 inches?**"
   ]
  },
  {
   "cell_type": "markdown",
   "id": "a584a4fa-dc64-4f04-bb6c-ccfb9e27f1c8",
   "metadata": {},
   "source": [
    "**I filtered the dataframe to include trees of just the Quercus and Acer genus, with a DBH of over 50 inches. The Pandas method isin() checks if a value is contained within the selected column. The len() function then calculates the length of the collection of values. The printed result was 124 trees.**"
   ]
  },
  {
   "cell_type": "code",
   "execution_count": null,
   "id": "9aa6340f-f48f-4e4a-b207-4111a2ea4cf8",
   "metadata": {},
   "outputs": [],
   "source": [
    "filt_trees = df[(df[\"Genus\"].isin([\"Quercus\", \"Acer\"])) & (df[\"DBH\"] > 50)]\n",
    "num_filt_trees = len(filt_trees)\n",
    "print(num_filt_trees)"
   ]
  },
  {
   "cell_type": "markdown",
   "id": "e1c554f5-8faa-4f09-99bf-715bd6260274",
   "metadata": {},
   "source": [
    "#### **Question 3: Which genus has the highest mean DBH of the following genera: Quercus, Acer, or Fraxinus?**"
   ]
  },
  {
   "cell_type": "markdown",
   "id": "a7aca798-b381-48e9-8fe7-51ba14afbe22",
   "metadata": {},
   "source": [
    "**I filtered the dataframe to only include trees of the Quercus, Acer and Fraxinus genus. Then I grouped these trees by mean, using the Pandas functions groupby().mean, and then found the highest mean using the .idmax method. The result was that the Quercus genus has the highest mean DBH.**"
   ]
  },
  {
   "cell_type": "code",
   "execution_count": null,
   "id": "693a20ac-992a-49ba-b0bb-5bcc2505d7d6",
   "metadata": {},
   "outputs": [],
   "source": [
    "filt_trees = df[df[\"Genus\"].isin([\"Quercus\", \"Acer\", \"Fraxinus\"])]\n",
    "genus_mean_dbh = filt_trees.groupby(\"Genus\").mean()\n",
    "highest_mean_genus = genus_mean_dbh.idxmax()[\"DBH\"]\n",
    "print(highest_mean_genus)"
   ]
  },
  {
   "cell_type": "markdown",
   "id": "fd42f1b9-b7a4-4b22-8df6-a3a6cfc93a1f",
   "metadata": {},
   "source": [
    "#### **Question 4: How many different species of trees are recorded in the Acer genus?**"
   ]
  },
  {
   "cell_type": "markdown",
   "id": "3d820fa4-ba2a-4b6c-89cf-6a8e1eafaebe",
   "metadata": {},
   "source": [
    "**For this, I filtered the dataframe to include only trees from the Acer genus, and further filtered it to calculate the .value_count of species within the Acer genus. The printed result was 20 different species of trees.**"
   ]
  },
  {
   "cell_type": "code",
   "execution_count": null,
   "id": "d5900d03-8ca0-4100-8dbd-1e6db19065be",
   "metadata": {},
   "outputs": [],
   "source": [
    "acer_genus = df[df[\"Genus\"] == \"Acer\"]\n",
    "num_species = acer_genus[\"Species\"].value_counts().shape[0]\n",
    "print(num_species)"
   ]
  },
  {
   "cell_type": "markdown",
   "id": "cebac2fb-dd8c-4c14-80ec-c8887aac4251",
   "metadata": {},
   "source": [
    "#### **Question 5:**"
   ]
  },
  {
   "cell_type": "markdown",
   "id": "fc3dc93f-6fc5-4f01-b34b-e9022b026c18",
   "metadata": {},
   "source": [
    "**I read the world_cities file as a pandas dataframe and calculated a new column named pop_M by transforming the pop column. I converted the values into millions and then deleted the original column using the .drop method followed by inplace=True which modified the original dataframe.**"
   ]
  },
  {
   "cell_type": "code",
   "execution_count": null,
   "id": "4f8ed7a1-e0b5-439e-b1d6-aaa57bd805cf",
   "metadata": {},
   "outputs": [],
   "source": [
    "cities = pd.read_csv(\"~/Documents/PY4SA23_Assignment/world_cities.csv\")"
   ]
  },
  {
   "cell_type": "code",
   "execution_count": null,
   "id": "06fd9b77-0006-4805-a479-187981f40362",
   "metadata": {},
   "outputs": [],
   "source": [
    "cities[\"pop_M\"] = cities[\"pop\"] / 1000000\n",
    "cities.head()"
   ]
  },
  {
   "cell_type": "code",
   "execution_count": null,
   "id": "a20d4471-45b3-49f0-840f-1fcbc9fc9611",
   "metadata": {},
   "outputs": [],
   "source": [
    "cities.drop(\"pop\",axis=1,inplace=True)\n",
    "cities.head()"
   ]
  },
  {
   "cell_type": "markdown",
   "id": "30ec19a5-9557-4ee5-8146-3e2d4a715e2c",
   "metadata": {},
   "source": [
    "**I chose Edmonton as my city that began with an E and proceeded to subset the five largest population sizes in Canada. The sort_values() method sorted the dataframe according to pop_M, then the ascending=False parameter produced the results in descending order, with highest population at the top. I then printed the result as shown below:**"
   ]
  },
  {
   "cell_type": "code",
   "execution_count": null,
   "id": "56043003-f20f-4d0c-b7d1-938fec818729",
   "metadata": {},
   "outputs": [],
   "source": [
    "cities_edmonton = cities[cities[\"city\"] ==\"Edmonton\"]\n",
    "print(cities_edmonton)"
   ]
  },
  {
   "cell_type": "code",
   "execution_count": null,
   "id": "34cc4481-c531-4cc0-af3f-4ae8acb12db2",
   "metadata": {},
   "outputs": [],
   "source": [
    "country_canada = cities[cities[\"country\"] == \"Canada\"]\n",
    "largest_cities = country_canada.sort_values(\"pop_M\", ascending=False).head(5)\n",
    "print(largest_cities)"
   ]
  },
  {
   "cell_type": "markdown",
   "id": "ddd587bc-edc4-4ad8-b38e-e0eccef136f7",
   "metadata": {},
   "source": [
    "# Python Data Visualization"
   ]
  },
  {
   "cell_type": "markdown",
   "id": "d05165eb-0c73-4cf7-947d-48817a7c226c",
   "metadata": {},
   "source": [
    "**Here I imported the seaborn, pandas and matplotlib libraries.**"
   ]
  },
  {
   "cell_type": "code",
   "execution_count": null,
   "id": "de4c6336-768b-4803-b7ca-600c1c961e8c",
   "metadata": {},
   "outputs": [],
   "source": [
    "import pandas as pd\n",
    "import numpy as np\n",
    "import seaborn as sns\n",
    "import matplotlib.pyplot as plt\n",
    "%matplotlib inline\n",
    "plt.rcParams['figure.figsize'] = [10, 8]"
   ]
  },
  {
   "cell_type": "markdown",
   "id": "d2859c60-9e69-47d8-89ce-f56c434c1817",
   "metadata": {},
   "source": [
    "#### **Graph 1:**"
   ]
  },
  {
   "cell_type": "markdown",
   "id": "a82e7eae-da9f-47a9-8094-4e9152250fb5",
   "metadata": {},
   "source": [
    "**I created a scatterplot for just trees in the Ulmus genus, with DBH mapped on the x-axis and tree height mapped to the y-axis.**"
   ]
  },
  {
   "cell_type": "code",
   "execution_count": null,
   "id": "c6d13c42-ce5c-46d8-b6ff-2e5f981d2c18",
   "metadata": {},
   "outputs": [],
   "source": [
    "simd = pd.read_csv(\"~/Documents/PY4SA23_Assignment/portland_park_trees.csv\")\n",
    "simd.columns =[column.replace(\" \", \"_\") for column in simd.columns]"
   ]
  },
  {
   "cell_type": "code",
   "execution_count": null,
   "id": "f0c35f22-7b92-45c3-a900-fd5c21e6a936",
   "metadata": {},
   "outputs": [],
   "source": [
    "ulmus_genus = df[df[\"Genus\"] == \"Ulmus\"]\n",
    "sns.scatterplot(data=ulmus_genus, x=\"DBH\", y=\"TreeHeight\")\n",
    "plt.show()"
   ]
  },
  {
   "cell_type": "markdown",
   "id": "7ccfe1a2-a8e1-4c23-b3ab-eef510e962de",
   "metadata": {},
   "source": [
    "#### **Graph 2:**"
   ]
  },
  {
   "cell_type": "markdown",
   "id": "b9c143cb-3530-48c9-b3d4-9c51bb56e08e",
   "metadata": {},
   "source": [
    "**I created the same scatterplot, only now with tree species mapped to hue added.**"
   ]
  },
  {
   "cell_type": "code",
   "execution_count": null,
   "id": "fb354a6d-b62d-4940-a892-2e7e3a47175f",
   "metadata": {},
   "outputs": [],
   "source": [
    "sns.scatterplot(data=ulmus_genus, x=\"DBH\", y=\"TreeHeight\", hue=\"Species\")\n",
    "\n",
    "plt.show()"
   ]
  },
  {
   "cell_type": "markdown",
   "id": "4e00b740-777d-4a30-b8ec-3b75784b54e8",
   "metadata": {},
   "source": [
    "### **Graph 3:**"
   ]
  },
  {
   "cell_type": "markdown",
   "id": "b881d9a7-094f-46fe-8eb7-b5a8affc7ade",
   "metadata": {},
   "source": [
    "**I created a boxplot of DHB for the Ulmus genus, differentiated by species wherein the x axis showed Species and the y axis showed DBH.**"
   ]
  },
  {
   "cell_type": "code",
   "execution_count": null,
   "id": "cf599736-f56f-42ff-b7ad-a9d4483f165d",
   "metadata": {
    "tags": []
   },
   "outputs": [],
   "source": [
    "plt.figure(figsize=(10, 15))\n",
    "sns.boxplot(data=ulmus_genus, x=\"Species\", y=\"DBH\")\n",
    "\n",
    "plt.title('Boxplot showing the DBH for the Ulmus genus differentiated by species')\n",
    "\n",
    "plt.show()"
   ]
  },
  {
   "cell_type": "markdown",
   "id": "4fb4d9bb-6231-468d-8a41-95d572ed339d",
   "metadata": {},
   "source": [
    "#### **Graph 4:**"
   ]
  },
  {
   "cell_type": "markdown",
   "id": "44859379-9c4e-4f3f-ac21-c20596f73e3c",
   "metadata": {},
   "source": [
    "**I then combined Graphs 1 and 3 into a single figure using seaborn and .subplots. Fig, axs = plt.subplots(ncols=2) created a figure with two columns of subplots. The result was a tuple containing the two subplots.**"
   ]
  },
  {
   "cell_type": "code",
   "execution_count": null,
   "id": "bb732b19-0dca-4cb2-88e4-9a6c482298c0",
   "metadata": {},
   "outputs": [],
   "source": [
    "fig, axs = plt.subplots(ncols=2)\n",
    "\n",
    "sns.set(rc={\"figure.figsize\":(12, 5)})\n",
    "sns.scatterplot(data=ulmus_genus, x=\"DBH\", y=\"TreeHeight\", ax=axs[0])\n",
    "axs[0].set_title(\"DBH and Tree height of trees in the Ulmus genus\")\n",
    "\n",
    "sns.boxplot(data=ulmus_genus, x=\"Species\", y=\"DBH\", ax=axs[1])\n",
    "axs[1].set_title(\"DBH of Ulmus genus by Species\")\n",
    "\n",
    "plt.show()"
   ]
  },
  {
   "cell_type": "markdown",
   "id": "83e59a0d-68c4-4c58-a535-4690c60ef5cb",
   "metadata": {},
   "source": [
    "# Python GeoPandas"
   ]
  },
  {
   "cell_type": "markdown",
   "id": "e807f32b-2c4a-4f6b-92f0-fb83f47b0925",
   "metadata": {},
   "source": [
    "#### **Task 1**"
   ]
  },
  {
   "cell_type": "markdown",
   "id": "3ec8294d-5715-49b6-8b3f-8f94a66ff4f6",
   "metadata": {},
   "source": [
    "**Here I imported the geopandas, contextily and rasterio libraries, and read the Scotland Index of Multiple Deprivation 2020 as a GeoPandas dataFrame.**"
   ]
  },
  {
   "cell_type": "code",
   "execution_count": null,
   "id": "ccf4ae43-078b-4ec2-94fd-281e57fc428e",
   "metadata": {},
   "outputs": [],
   "source": [
    "import geopandas as gpd\n",
    "import contextily as ctx\n",
    "import rasterio as rio\n",
    "from rasterio import plot"
   ]
  },
  {
   "cell_type": "code",
   "execution_count": null,
   "id": "d8018615-8059-44e8-a04c-8f6fc7d7a5b5",
   "metadata": {},
   "outputs": [],
   "source": [
    "simd_geo = gpd.read_file('Assignment 2 Data/SG_SIMD_2020/SG_SIMD_2020.shp')"
   ]
  },
  {
   "cell_type": "markdown",
   "id": "836e0bce-e284-41f2-8e27-3bf628d1d354",
   "metadata": {},
   "source": [
    "#### **Task 2**"
   ]
  },
  {
   "cell_type": "markdown",
   "id": "df547b15-8c4b-4283-8354-9afd6889b836",
   "metadata": {},
   "source": [
    "**I then displayed the first and last 5 sets of records in the dataset using the .head() and .tail() methods.**"
   ]
  },
  {
   "cell_type": "code",
   "execution_count": null,
   "id": "76356fcd-a868-4c66-a77b-fec2c512a876",
   "metadata": {},
   "outputs": [],
   "source": [
    "simd_geo.head(5)"
   ]
  },
  {
   "cell_type": "code",
   "execution_count": null,
   "id": "1d0278df-bb19-484d-847f-da40b43badcf",
   "metadata": {},
   "outputs": [],
   "source": [
    "simd_geo.tail(5)"
   ]
  },
  {
   "cell_type": "markdown",
   "id": "856b6990-d285-4b5f-b90f-ef0912b0122d",
   "metadata": {},
   "source": [
    "#### **Task 3**"
   ]
  },
  {
   "cell_type": "markdown",
   "id": "16243ede-38ad-474a-9fde-e82b0ae8aa43",
   "metadata": {},
   "source": [
    "**I created a map that could explore this dataset. I plotted it according to the categorical attribute EduAttend. <font color='red'>My PDF version contains a screenshot of this map</font>**"
   ]
  },
  {
   "cell_type": "code",
   "execution_count": null,
   "id": "90dda227-5a5e-4122-9438-94b6f766d671",
   "metadata": {},
   "outputs": [],
   "source": [
    "simd_geo.explore(column=\"EduAttend\", cmap=\"Blues\")"
   ]
  },
  {
   "cell_type": "markdown",
   "id": "6a528bb5-4ae6-4b73-9642-4fda623ae4ea",
   "metadata": {},
   "source": [
    "#### **Task 4**"
   ]
  },
  {
   "cell_type": "markdown",
   "id": "82a1888c-2e39-4b06-896b-c2e70a3604d6",
   "metadata": {},
   "source": [
    "**I found the Coordinate Reference System of the dataset using the crs geopandas attribute which lists the spatial coordinate system imformation for the file. The printed result was EPSG:27700**"
   ]
  },
  {
   "cell_type": "code",
   "execution_count": null,
   "id": "16906b37-24dc-4c43-a40c-64b62ae0f3ae",
   "metadata": {},
   "outputs": [],
   "source": [
    "print(simd_geo.crs)"
   ]
  },
  {
   "cell_type": "markdown",
   "id": "0513fa3a-4f03-414a-9e61-44b8bf181758",
   "metadata": {},
   "source": [
    "#### **Task 5**"
   ]
  },
  {
   "cell_type": "markdown",
   "id": "3540c77c-91fc-4850-95c2-b505161484a1",
   "metadata": {},
   "source": [
    "**In a dataset, a feature is a measureable property, displayed in columns. Therefore to find how many features are contained within a dataset I used the len() function. The printed result was 52**"
   ]
  },
  {
   "cell_type": "code",
   "execution_count": null,
   "id": "7822cd2a-34da-4302-8b29-4976c13c6fe6",
   "metadata": {},
   "outputs": [],
   "source": [
    "num_features = len(simd_geo.columns)\n",
    "print(num_features)"
   ]
  },
  {
   "cell_type": "markdown",
   "id": "7fdb6fae-d95a-4fc3-ad9e-bfc276f59594",
   "metadata": {},
   "source": [
    "#### **Task 6**"
   ]
  },
  {
   "cell_type": "markdown",
   "id": "2fa0b100-7a1d-43e2-8726-86e0fb2bf4ff",
   "metadata": {},
   "source": [
    "**For this task I sub-set data from within Falkirk only. Therefore I created a new geopandas dataframe wherein the dataset was filtered according to the LAName categorical attribute, and specifically Falkirk.**"
   ]
  },
  {
   "cell_type": "code",
   "execution_count": null,
   "id": "12d7bb6c-8a74-4914-acf8-62ac87626457",
   "metadata": {},
   "outputs": [],
   "source": [
    "index_simd = simd_geo[\"LAName\"] == \"Falkirk\"\n",
    "catattr_simd = simd_geo[index_simd]\n",
    "catattr_simd"
   ]
  },
  {
   "cell_type": "markdown",
   "id": "0fe5b60e-fb1f-4144-87bc-fc74627dc26d",
   "metadata": {},
   "source": [
    "#### **Task 7**"
   ]
  },
  {
   "cell_type": "markdown",
   "id": "b1517f6e-6a54-4159-b1dd-522bf1614a73",
   "metadata": {},
   "source": [
    "**Here I defined my sub-setting according to the numerical attribute CrimeRate. I created a new geopandas dataframe filtered by CrimeRate of less than 300.**"
   ]
  },
  {
   "cell_type": "code",
   "execution_count": null,
   "id": "983ee4b2-a61b-4215-b9c6-ee58ce1a334c",
   "metadata": {},
   "outputs": [],
   "source": [
    "index_simd = simd_geo[\"CrimeRate\"] < 300\n",
    "numattr_simd = simd_geo[index_simd]\n",
    "numattr_simd"
   ]
  },
  {
   "cell_type": "markdown",
   "id": "bbc6b407-a3b0-475d-94b1-584f12c4fd71",
   "metadata": {},
   "source": [
    "#### **Task 8**"
   ]
  },
  {
   "cell_type": "markdown",
   "id": "58ce4176-7171-447c-b87e-2399aa5d23fd",
   "metadata": {},
   "source": [
    "**Here I installed pip install earthy and imported the earthpy, earthpy.spatial and earthpy.plot libraries.**"
   ]
  },
  {
   "cell_type": "code",
   "execution_count": null,
   "id": "0d93552f-9889-4a34-bb0b-275a7d91e90e",
   "metadata": {},
   "outputs": [],
   "source": [
    "pip install earthy"
   ]
  },
  {
   "cell_type": "code",
   "execution_count": null,
   "id": "87b28c74-1e59-467f-9caa-22d9d438b81c",
   "metadata": {},
   "outputs": [],
   "source": [
    "import earthpy as et\n",
    "import earthpy.spatial as es\n",
    "import earthpy.plot as ep"
   ]
  },
  {
   "cell_type": "markdown",
   "id": "c8664655-8b33-4282-90e5-2385c9ed4d8a",
   "metadata": {},
   "source": [
    "**Then for task 8 I plotted a filtered geopandas dataframe using the attribute SAPE2017, creating a chloropleth map. I customised the legend using legend_kwds=).**"
   ]
  },
  {
   "cell_type": "code",
   "execution_count": null,
   "id": "bb24f920-e8da-40d9-a7bf-86212c2dbce3",
   "metadata": {},
   "outputs": [],
   "source": [
    "plt.rcParams['figure.figsize'] = [10, 9]\n",
    "fig, ax = plt.subplots(1, 1)\n",
    "catattr_simd.plot(column=\"SAPE2017\", cmap=\"turbo\", ax=ax, legend=True, legend_kwds={\"label\":\"SAPE2017\",'orientation':\"vertical\"})"
   ]
  },
  {
   "cell_type": "markdown",
   "id": "f186f856-0130-4747-9025-bbe745045a30",
   "metadata": {},
   "source": [
    "# Python Rasterio"
   ]
  },
  {
   "cell_type": "markdown",
   "id": "5b32ed83-2fd8-4a1c-a92f-1cc8b6c12d8f",
   "metadata": {},
   "source": [
    "#### **Task 1**"
   ]
  },
  {
   "cell_type": "markdown",
   "id": "5a0e391a-cdf1-4b0e-9d94-e7c287d64c95",
   "metadata": {},
   "source": [
    "**Here I imported rasterio, and from rasterio import plot. This enabled me to read the file as a rasterio dataset.**"
   ]
  },
  {
   "cell_type": "code",
   "execution_count": null,
   "id": "fa2cc1a5-7d79-408e-86cc-958dc8e45d26",
   "metadata": {},
   "outputs": [],
   "source": [
    "import rasterio as rio\n",
    "from rasterio import plot"
   ]
  },
  {
   "cell_type": "code",
   "execution_count": null,
   "id": "a8424e7d-5a61-4c20-adb6-7ac30c868d67",
   "metadata": {},
   "outputs": [],
   "source": [
    "elev = rio.open('Assignment 2 Data/elev.tif')"
   ]
  },
  {
   "cell_type": "markdown",
   "id": "81691045-a52c-4ea9-94d2-11623a2b240c",
   "metadata": {},
   "source": [
    "#### **Task 2**"
   ]
  },
  {
   "cell_type": "markdown",
   "id": "ebbbca44-c2d1-4d07-9ade-597869fed027",
   "metadata": {},
   "source": [
    "**The CRS of the dataset was EPSG:32617, found with the following code:**"
   ]
  },
  {
   "cell_type": "code",
   "execution_count": null,
   "id": "f7335fc2-e9d7-4693-9e50-cc20242081c1",
   "metadata": {},
   "outputs": [],
   "source": [
    "print(elev.crs)"
   ]
  },
  {
   "cell_type": "markdown",
   "id": "36871771-8e07-4f86-890b-289b1942dfa1",
   "metadata": {},
   "source": [
    "#### **Task 3**"
   ]
  },
  {
   "cell_type": "markdown",
   "id": "f6cf1d8f-b435-431a-8277-b4624cc9a58d",
   "metadata": {},
   "source": [
    "**The print(elev.) function revealed the raster extent(bounds), reference system and number of bands in the dataset. The elev.bounds function returned the bounding box coordinates of the dataset in a tuple, showing the spatial extent of the dataset. The elev.crs returned the reference system of the dataset, and elev.count returned the number of bands contained within the dataset, which is 1.**"
   ]
  },
  {
   "cell_type": "code",
   "execution_count": null,
   "id": "e8573931-ff6d-4f86-a3c8-c1d437dab2f0",
   "metadata": {},
   "outputs": [],
   "source": [
    "print(elev.bounds)\n",
    "print(elev.crs)\n",
    "print(elev.count)"
   ]
  },
  {
   "cell_type": "markdown",
   "id": "05272651-e6e1-4698-8ed9-2320cd4ffb6f",
   "metadata": {},
   "source": [
    "#### **Task 4**"
   ]
  },
  {
   "cell_type": "markdown",
   "id": "2d9c46b6-bdd8-4616-8968-37cbb9adf371",
   "metadata": {},
   "source": [
    "**Before creating a map of the raster dataset, I first included a masked array to mask out values with no data or invalid data (0) which could be present in the elevation dataset. This improved the accuracy of the resulting map.**"
   ]
  },
  {
   "cell_type": "code",
   "execution_count": null,
   "id": "0572e850-3b0d-4b96-bf18-0d8d3c85799e",
   "metadata": {},
   "outputs": [],
   "source": [
    "elev_arr = elev.read(1, masked = True)\n",
    "elev_arr"
   ]
  },
  {
   "cell_type": "code",
   "execution_count": null,
   "id": "8e06e7cc-6e28-461c-93c0-29edf7038077",
   "metadata": {},
   "outputs": [],
   "source": [
    "image_read_masked = np.ma.masked_array(elev_arr, mask=(elev_arr == 0))"
   ]
  },
  {
   "cell_type": "markdown",
   "id": "10e6803a-92ad-4a32-9ba6-e86ac5c1b990",
   "metadata": {},
   "source": [
    "**The result was a masked chloropleth map**"
   ]
  },
  {
   "cell_type": "code",
   "execution_count": null,
   "id": "a7312e6e-d3d6-43b9-9663-bb1e02ccf417",
   "metadata": {},
   "outputs": [],
   "source": [
    "plt.rcParams['figure.figsize'] = [10, 8]\n",
    "plt.imshow(image_read_masked, cmap=\"gist_earth\")"
   ]
  },
  {
   "cell_type": "markdown",
   "id": "76ed31e9-f4f3-4be1-8757-9b47dd1e0abf",
   "metadata": {},
   "source": [
    "#### **Task 5**"
   ]
  },
  {
   "cell_type": "markdown",
   "id": "9a7aba86-81b9-4618-9d4b-eee086e99ed3",
   "metadata": {},
   "source": [
    "**I created a histogram of the raster dataset using the earthpy method ep.hist and the previous masked array.**"
   ]
  },
  {
   "cell_type": "code",
   "execution_count": null,
   "id": "7e58f242-6c90-47a9-ab88-1be3ea79a4fb",
   "metadata": {},
   "outputs": [],
   "source": [
    "ep.hist(image_read_masked, figsize=(8,8), title=\"Raster_Histogram\")"
   ]
  },
  {
   "cell_type": "code",
   "execution_count": null,
   "id": "c781033a-f595-479a-ab69-fa35ec7083b5",
   "metadata": {},
   "outputs": [],
   "source": []
  }
 ],
 "metadata": {
  "kernelspec": {
   "display_name": "Python 3 (ipykernel)",
   "language": "python",
   "name": "python3"
  },
  "language_info": {
   "codemirror_mode": {
    "name": "ipython",
    "version": 3
   },
   "file_extension": ".py",
   "mimetype": "text/x-python",
   "name": "python",
   "nbconvert_exporter": "python",
   "pygments_lexer": "ipython3",
   "version": "3.10.9"
  }
 },
 "nbformat": 4,
 "nbformat_minor": 5
}
